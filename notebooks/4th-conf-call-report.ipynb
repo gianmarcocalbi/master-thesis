{
 "cells": [
  {
   "cell_type": "markdown",
   "metadata": {},
   "source": [
    "# Joint conf-call report #4"
   ]
  },
  {
   "cell_type": "code",
   "execution_count": 1,
   "metadata": {},
   "outputs": [
    {
     "name": "stdout",
     "output_type": "stream",
     "text": [
      "2018-05-17 16:20:46.444935\n"
     ]
    }
   ],
   "source": [
    "import datetime\n",
    "print(str(datetime.datetime.today()))"
   ]
  },
  {
   "cell_type": "markdown",
   "metadata": {},
   "source": [
    "# Velocity approximation\n",
    "As it isn't actually a lower bound. We suppose by the time node $v$ finishes computation for iteration $t$ then its dependencies in turn have already received the required informations from their dependencies so they can start calculations for iteration $t$.\n",
    "\n",
    "The time taken by node $v$ is a random variable $X$ while its $k$ (e.g. the graph's degree) dependencies are I.I.D. $X_1,...,X_k$. Let $Y=max(X_1,...,X_k)$ be the slowest dependency node to complete the task,\n",
    "\n",
    "$$Pr(Y \\leq y) = \\prod_{i=1}^{k} Pr(X_i \\leq y) = Pr(X \\leq y)^k = F_X(y)^k$$\n",
    "\n",
    "$$\\mathbb{E}[Y] = \\int_{0}^{\\infty} (1-Pr(Y\\leq y))\\ dy = \\int_{0}^{\\infty} (1-F_X(y)^k)\\ dy.$$\n",
    "\n",
    "The total time $v$ has to wait is $\\mathbb{E}[Y]+\\mathbb{E}[X]$, so the single iteration velocity can be expressed as\n",
    "\n",
    "$$V = \\frac{1}{\\mathbb{E}[Y]+\\mathbb{E}[X]}.$$"
   ]
  },
  {
   "cell_type": "markdown",
   "metadata": {},
   "source": [
    "# Velocity assuming different time distributions\n",
    "\n",
    "## Exponential time\n",
    "The one always used up to now.\n",
    "\n",
    "$$\\mathbb{E}[Y] = \\int_{0}^{\\infty} 1-(1-e^{-\\lambda y})^k\\ dy$$\n",
    "\n",
    "$$V = \\frac{\\lambda}{1+\\sum_{i=1}^{k} \\frac{1}{i}}$$"
   ]
  },
  {
   "cell_type": "markdown",
   "metadata": {},
   "source": [
    "## Uniform time\n",
    "$Y = max(X_1,...,X_k)$ with $X \\sim \\mathcal{U}(a,b)$.\n",
    "\n",
    "Uniform's CDF:\n",
    "$$\n",
    "F_X(x) =\n",
    "\\begin{cases}\n",
    "    0 & \\text{if } x < a \\\\\n",
    "    \\frac{x-a}{b-a} & \\text{if } a \\leq x < b \\\\\n",
    "    1 & \\text{if } x \\geq b \\end{cases}\n",
    "$$\n",
    "<br>\n",
    "\n",
    "$$\n",
    "\\begin{equation}\n",
    "\\mathbb{E}[Y] = \\int_{0}^{\\infty} 1 - (F_X(y)^k) dy = \\int_{0}^{a} 1\\ dy + \\int_{a}^{b} 1-\\left(\\frac{y-a}{b-a}\\right)^k dy + \\int_{b}^{\\infty} 1-1\\ dy = a + \\int_{a}^{b} 1\\ dy - \\frac{1}{(b-a)^k} \\int_{a}^{b} (y-a)^k dy + 0 = b - \\frac{1}{(b-a)^k} \\left[\\frac{(y-a)^{k+1}}{k+1}\\right]_{a}^{b} = b - \\frac{1}{(b-a)^k} \\frac{(b-a)^{k+1}}{k+1} = b + \\frac{a-b}{k+1} = \\frac{kb+b-b+a}{k+1} = \\frac{a+kb}{k+1}\n",
    "\\end{equation}\n",
    "$$\n",
    "<br>\n",
    "\n",
    "$$\n",
    "\\overline{T} = \\mathbb{E}[X] + \\mathbb{E}[Y] = \\frac{a+b}{2} + \\frac{a+kb}{k+1} = \\frac{a(k+3) + b(3k+1)}{2(k+1)}\n",
    "$$\n",
    "<br>\n",
    "\n",
    "$$\n",
    "\\overline{V} = \\frac{1}{\\overline{T}} = \\frac{1}{\\mathbb{E}[X] + \\mathbb{E}[Y]} = \\frac{2(k+1)}{a(k+3) + b(3k+1)}.\n",
    "$$\n",
    "\n",
    "For $a=0$ and $b=2$\n",
    "$$\n",
    "\\overline{T} = \\frac{3k+1}{k+1}.\n",
    "$$"
   ]
  },
  {
   "cell_type": "markdown",
   "metadata": {},
   "source": [
    "## Pareto time\n",
    "Pareto's CDF:\n",
    "\n",
    "$$\n",
    "F_X(x) =\n",
    "\\begin{cases}\n",
    "    1 & \\text{if }x < x_m \\\\\n",
    "    1-\\left(\\frac{x_m}{x}\\right)^\\alpha & \\text{if } x \\geq x_m\n",
    "\\end{cases}\n",
    "$$\n",
    "\n",
    "I set $x_m = 1$, then\n",
    "\n",
    "$$\n",
    "F_X(x) =\n",
    "\\begin{cases}\n",
    "    1 & \\text{if }x < 1 \\\\\n",
    "    1-x^{-\\alpha} & \\text{if } x \\geq 1\n",
    "\\end{cases}\n",
    "$$\n",
    "\n",
    "$Y = max(X_1,...,X_k)$ with $X \\sim Pareto(\\alpha)$.\n",
    "\n",
    "$$\n",
    "\\begin{equation}\n",
    "\\mathbb{E}[Y] = \\int_{0}^{\\infty} 1 - (F_X(y)^k)\\ dy = \\int_{0}^{1} 1-1\\ dy + \\int_{1}^{\\infty} 1-\\left(1-\\frac{1}{y^\\alpha}\\right)^k\\ dy = \\int_{1}^{\\infty} 1-\\left(1-\\frac{1}{y^\\alpha}\\right)^k\\ dy\n",
    "\\end{equation}\n",
    "$$\n",
    "\n",
    "such integral cannot be solved in the regular way (there are no primitives to solve it), so I evaluated it "
   ]
  },
  {
   "cell_type": "markdown",
   "metadata": {},
   "source": [
    "# Residual time CDF for non-memoryless distributions\n",
    "\n",
    "$$F_{Xres}(x) = \\frac{1}{\\mathbb{E}[X]} \\int_{0}^{x} (1-F_x(t))\\ dt$$\n",
    "\n",
    "## Uniform with residual time CDF\n",
    "\n",
    "Uniform's residual time CDF:\n",
    "$$\n",
    "F_{Xres}(x) =\n",
    "\\begin{cases}\n",
    "    \\frac{2}{a+b} \\int_{0}^{x} 1\\ dt= \\frac{2x}{a+b} & \\text{if } x \\leq a \\\\\n",
    "    \\frac{2}{a+b} \\left[\\int_{0}^{a} 1\\ dt + \\int_{a}^{x} \\left(1 - \\frac{t-a}{b-a}\\right)\\ dt\\right] = \\frac{-a^2+2ab+2ax-4bx+x^2}{a^2 - b^2}& \\text{if } a < x < b\\\\\n",
    "    \\frac{2}{a+b} \\left[\\int_{0}^{a} 1\\ dt + \\int_{a}^{b} \\left(1 - \\frac{t-a}{b-a}\\right)\\ dt + \\int_{b}^{x} 1-1\\ dt \\right] = \\frac{2}{a+b} (a + \\frac{b-a}{2}) = 1 & \\text{if } x \\geq b\n",
    "\\end{cases}\n",
    "$$\n",
    "\n",
    "$Y = max(X_{1res},...,X_{kres})$\n",
    "\n",
    "$$\\mathbb{E}[Y] = \\int_{0}^{+\\infty}1-F_{Xres}(y)^k\\ dy$$\n",
    "\n",
    "For $k=1$:\n",
    "$$\\frac{-2a^2+7ab-2b^2}{3(a+b)}$$"
   ]
  },
  {
   "cell_type": "markdown",
   "metadata": {},
   "source": [
    "## A hypothetical real (but very pessimistic) lower bound $\\forall k$\n",
    "\n",
    "$$V_l = \\frac{\\lambda}{1 + \\sum_{j=0}^{\\lambda-1} \\sum_{i=1}^{\\frac{n}{\\lambda}(\\lambda-j)} \\frac{1}{i}}$$\n",
    "\n",
    "where $d$ is the graph's diameter.\n",
    "\n",
    "Let $u$ be the most advanced node in computation and suppose it being at iteration $t$. _Remember \"node $u$ is at iteration $t$\" means that $u$ has already performed the $t$-th update of its local model, so it owns $\\mathbf{w}^{(t)}_u$_.\n",
    "\n",
    "Let $d(u,v)$ be the \"directed\" distance from $u$ to $v$, e.g. the minimum amount of directed edges one needs to cross in order to go from $u$ to $v$ (obviously edges can be crossed just in the proper direction), then:\n",
    "\n",
    "- nodes at distance 1 from $u$ must be at least at iteration $t-1$;\n",
    "- nodes at distance 2 from $u$ must be at least at iteration $t-2$;\n",
    "- in general, nodes at distance $l : l \\leq d$ from $u$ must be at least at iteration $t-l$.\n",
    "\n",
    "Due to exponential memoryless property, all exponential variables that rule the duration of each node's iteration can be regenerated in any moment. Therefore is legit assuming that right now node $u$ is starting iteration $t$ and nodes at distance $l$ from $u$ are starting iteration $t-l$ for all $l \\leq d$.\n",
    "\n",
    "The worst case for node $u$ is the following:\n",
    "- by the time node $u$ finishes iteration $t$ it doesn't own inputs from its parent to start iteration $t+1$. So, node $u$ has finished, all random exponential variables can be regenerated, $u$ have to wait for the slowest node among those at distance 1 from it;\n",
    "- but nodes at distance 1 from $u$ cannot start iteration $t$ since their still waiting their parents for their outcomes (e.g. nodes at distance 2 from $u$ haven't performed iteration $t-1$ yet); the same for nodes at distance 2 from $u$: they are waiting their parents, and so on up to nodes at distance $d$ from $u$, a straggler belongs to them, it is slowing down the whole computation.\n",
    "\n",
    "In this case, the time taken by the slowest node at distance $d$ is distributed as $max \\{X_1,...,X_n\\}$ (where $X_i \\sim Exp(\\lambda)$ and $n$ is the total amount of computational units) since it is . After waiting this time a chain of calculations starts up to nodes at distance 1 from $u$, and after they have finished their computations, then $u$ can go on to the next iteration. The time taken by the slowest node at distance $d-1$ from $u$ is distributed as $max \\{ X_1,...,X_{(n-\\frac{n}{d})}\\}$. In general, the time taken by the slowest node at distance $l$ from $u$ is distributed as $max \\{ X_1,...,X_{\\frac{n}{d}(d-l)}\\}$. So the time $u$ have to wait to start iteration $t$ is distributed as \n",
    "\n",
    "$$Z = \\sum_{l=0}^{d-1} max \\{X_1,...,X_{\\frac{n}{d}(d-l)}\\}$$\n",
    "\n",
    "$$\\mathbb{E}[Z] = \\frac{1}{\\lambda} \\sum_{j=0}^{d-1} \\sum_{i=1}^{\\frac{n}{d}(d-j)} \\frac{1}{i}$$\n",
    "\n",
    "Clearly this situation is very rare, but it gives the most pessimistic lower bound of the time a node should wait in order to perform one iteration.\n",
    "\n",
    "**In the following tests the _almost_-lower bound will be used (and not the latter).**\n"
   ]
  },
  {
   "cell_type": "markdown",
   "metadata": {},
   "source": [
    "# WTF is happening\n",
    "\n",
    "## What needed a change\n",
    "Let's consider what is happening inside a node $v$:\n",
    "- iterations counter starts from 0;\n",
    "- the weight vector is initialized to a random value (why and the significance of this random value will be discussed later);\n",
    "- stepwise update is computed:\n",
    "    - \n",
    "\n",
    "- the iteration counter is increased after each update of the local model. For instance, at iteration 0, the first model update is applied, then the iteration counter is set equal to 1. I used to consider iterations counter increase as the last instruction which concludes the update.\n",
    "\n",
    "The problem arises because metrics calculation is made before the iterations counter increase, hence \n",
    "Iteration 0 use to be considered the first update of weight vector applied by each node. The binding between iterations and weights was: iteration $i$ is paired with $w^(i)$. Actually if one thinks at $w^{(0)}$ then it should be the starting point, so $w^{(1)}$ should be the first weight update instead. In my code it wasn't so.\n",
    "\n",
    "There was `W_log` which stored the history of $w$(s). The first element of `W_log` (e.g. `W_log[0]`) is the starting $w$ which is not the first weight update $w^(0)$\n",
    "\n",
    "\n",
    "## Why these outcomes?"
   ]
  },
  {
   "cell_type": "markdown",
   "metadata": {},
   "source": [
    "# 1e-6 alpha 10k samples 10k time GD test\n",
    "Parameters:\n",
    "- 100 nodes;\n",
    "- 10k samples;\n",
    "- 100 features/predictors;\n",
    "- plotted graphs: diagonal, cycle, clique;\n",
    "- 10k time limit;\n",
    "- **1e-6 alpha**.\n",
    "\n",
    "\n",
    "## X starts in [0,1]\n",
    "\n",
    "\n",
    "## X starts in [0,2]\n",
    "\n",
    "\n",
    "## X starts in 0"
   ]
  }
 ],
 "metadata": {
  "kernelspec": {
   "display_name": "Python 3",
   "language": "python",
   "name": "python3"
  },
  "language_info": {
   "codemirror_mode": {
    "name": "ipython",
    "version": 3
   },
   "file_extension": ".py",
   "mimetype": "text/x-python",
   "name": "python",
   "nbconvert_exporter": "python",
   "pygments_lexer": "ipython3",
   "version": "3.6.5"
  }
 },
 "nbformat": 4,
 "nbformat_minor": 2
}
