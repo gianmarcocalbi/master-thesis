{
 "cells": [
  {
   "cell_type": "markdown",
   "metadata": {
    "slideshow": {
     "slide_type": "fragment"
    }
   },
   "source": [
    "# Joint conf-call report #3"
   ]
  },
  {
   "cell_type": "code",
   "execution_count": 1,
   "metadata": {
    "slideshow": {
     "slide_type": "fragment"
    }
   },
   "outputs": [
    {
     "name": "stdout",
     "output_type": "stream",
     "text": [
      "2018-05-09 16:56:40.244625\n"
     ]
    }
   ],
   "source": [
    "import datetime\n",
    "print(str(datetime.datetime.today()))"
   ]
  },
  {
   "cell_type": "markdown",
   "metadata": {},
   "source": [
    "# Formalism adopted\n",
    "\n",
    "The following are most common formalisms:\n",
    "- uppercase bold letter like $\\mathbf{A}$ indicates a matrix;\n",
    "- lowercase bold letter like $\\mathbf{x}$ indicates a column vector ($\\mathbf{x}^T$ is a row vector);\n",
    "- lowercase normal letter like $x$ indicates a mono-dimensional variable;\n",
    "- usually subscript stands for _index access_, e.g. $x_i$ is the $i$-th component of $\\mathbf{x}$;\n",
    "- superscript within brackets stands for a sequence that embodies the history of a variable (or anything else), like $\\pi^{(0)},\\pi^{(1)},...,\\pi^{(t-1)},\\pi^{(t)}$;\n",
    "\n",
    "Therefore:\n",
    "- the training set is $\\mathcal{X} = (\\mathbf{X}, \\mathbf{y}) = \\{(\\mathbf{x_i}, y_i) : i = 1...n\\}$;\n",
    "- $\\mathbf{X}$ is a $n \\times p$ matrix where $n$ is the number of _samples_ and $p$ is the number of _predictors_ (or _features_);\n",
    "- $\\mathbf{x_i} = (x_{i1},...,x_{in}) \\in \\mathbf{X}$ is a sample of the training set while $y_i$ is its label;\n",
    "- $\\mathbf{w}^{(t+1)}$ is the $(t+1)$-th update of the weight vector $\\mathbf{w}$."
   ]
  },
  {
   "cell_type": "markdown",
   "metadata": {},
   "source": [
    "# Iterations' velocity lower bound comparison\n",
    "> #### Why is it a lower bound for $k=1$\n",
    "> ![Example](media/img/graph-samples/iter-speed-lb-example.png)\n",
    "\n",
    "> `a` is the most advanced node (e.g. `a.iteration` $>$ `b.iteration` and `a.iteration` $>$ `c.iteration`), so it is waiting for `b` to finish its calculations, but actually `b` already got the required input from `c`, then, as soon as `b` finishes with the current computation, both `a` and `b` can move to compute to the next step. Then the next iteration will be computed by the most advanced node (it can be either `a` or `b`) after $\\frac{1}{\\lambda} + \\frac{1}{2 \\lambda}$ and not after $\\frac{1}{\\lambda} + \\frac{1}{\\lambda}$ as considered by the lower bound.\n",
    "\n",
    "> _(from 2nd-conf-call-report)_\n",
    "\n",
    "## Actually it is not a lower bound\n",
    "**Counterexample**.\n",
    "When `a` ends its calculation for iteration $t$, then it have to wait for `b` to finish iteration $t$ to proceed to compute iteration $t+1$. But there's no guarantee that by the time `a` finishes, then `b` has already got the necessary outcomes from its parent to perform iteration $t$, maybe `b` is still waiting for `c` to finish iteration $t-1$, while `a` has already finished iteration $t$. Hence such is not a lower bound. However it seems to be very near to the lower bound so for the tests in this report I will use it as lower bound.\n",
    "\n",
    "The speed (almost) lower bound is\n",
    "\n",
    "$$V_l = \\frac{\\lambda}{1+\\sum_{i=1}^{k} \\frac{1}{i}}$$.\n",
    "\n",
    "The lower bound of the iterations' amount is\n",
    "\n",
    "$$\\#it = V_l * time$$\n",
    "\n",
    "so we're dealing with a line $f(x) = V_l x$.\n",
    "\n",
    "For $n=10$ and $\\lambda = 1$:\n",
    "\n",
    "| Graph | degree $k$ | $V_l$\n",
    "| :--- |:---: | ---:\n",
    "| Clique |  $9$  | $\\sim 0.34$\n",
    "| Root and diameter expanders | $2$  | $0.4$\n",
    "| Cycle |  $1$  | $0.5$\n",
    "| Diagonal* | $0$  | $1$\n",
    "\n",
    "_(*) NB: $V_l$ for diagonal graph is not reliable._"
   ]
  },
  {
   "cell_type": "markdown",
   "metadata": {},
   "source": [
    "### Iterations over time LB plot for _10k samples GD test 003_\n",
    "![Iter/time LB for 10k samples](media/img/tests/test_003_10ksamples_classic/1_iter-lb_time.png)"
   ]
  },
  {
   "cell_type": "markdown",
   "metadata": {},
   "source": [
    "## Velocity vs degree test\n",
    "`test_log/test_004_velVSdeg10ksamples10ktime_classic`.\n",
    "\n",
    "### Test parameters\n",
    "- `n = 100` (number of computational units).\n",
    "- `n_samples = 10000`.\n",
    "- `n_features = 100`.\n",
    "- `max_time = 10000`.\n",
    "\n",
    "### Test topologies\n",
    "Based on degree:\n",
    "- degree **1**: cycle;\n",
    "- degree **2**: diameter expander;\n",
    "- degree **3**, **4**, **8**, **20**, **50**: `generate_d_regular_graph_by_degree(100, k)`;\n",
    "- degree **99**: clique.\n",
    "\n",
    "#### How are generated generic regular graphs with degree $k : 3 \\leq k \\leq N-2$\n",
    "By exploiting the following function.\n",
    "```python\n",
    "def generate_d_regular_graph_by_degree(N, K):\n",
    "    if N <= 1 or K <= 0:\n",
    "        edges = []\n",
    "    else:\n",
    "        edges = [\"i->i+1\"]\n",
    "        for i in range(K-1):\n",
    "            edges.append(\"i->i+{}\".format(int((i + 1) * N / K)))\n",
    "\n",
    "    return generate_d_regular_graph_by_edges(N, edges)\n",
    "```\n",
    "\n",
    "**Execution examples.**\n",
    "The body of the function generates edges for the general node $i$ as a list of strings like in snippets below:"
   ]
  },
  {
   "cell_type": "code",
   "execution_count": 2,
   "metadata": {},
   "outputs": [
    {
     "name": "stdout",
     "output_type": "stream",
     "text": [
      "['i->i+1', 'i->i+10', 'i->i+20', 'i->i+30', 'i->i+40', 'i->i+50', 'i->i+60', 'i->i+70', 'i->i+80', 'i->i+90']\n"
     ]
    }
   ],
   "source": [
    "N = 100\n",
    "K = 10\n",
    "edges = [\"i->i+1\"]\n",
    "for i in range(K-1):\n",
    "    edges.append(\"i->i+{}\".format(int((i + 1) * N / K)))\n",
    "print(edges)"
   ]
  },
  {
   "cell_type": "code",
   "execution_count": 3,
   "metadata": {},
   "outputs": [
    {
     "name": "stdout",
     "output_type": "stream",
     "text": [
      "['i->i+1', 'i->i+2', 'i->i+5', 'i->i+7']\n"
     ]
    }
   ],
   "source": [
    "N = 10\n",
    "K = 4\n",
    "edges = [\"i->i+1\"]\n",
    "for i in range(K-1):\n",
    "    edges.append(\"i->i+{}\".format(int((i + 1) * N / K)))\n",
    "print(edges)"
   ]
  },
  {
   "cell_type": "markdown",
   "metadata": {},
   "source": [
    "Then such edges are used from `generate_d_regular_graph_by_edges(N, edges)` to produce the relative $N \\times N$ graph's adjacency matrix.\n",
    "\n",
    "**Example.**\n",
    "Let's consider the edge list `['i->i+1', 'i->i+2', 'i->i+5', 'i->i+7']` and $N=10$. \n",
    "\n",
    "- node $0$ edges will be: $0 \\to 1$, $0 \\to 2$, $0 \\to 5$, $0 \\to 7$;\n",
    "- node $1$ edges will be: $1 \\to 2$, $1 \\to 3$, $1 \\to 6$, $1 \\to 8$;\n",
    "- ...\n",
    "- node $5$ edges will be: $5 \\to 6$, $5 \\to 7$, $5 \\to 0$, $5 \\to 2$; since the $mod\\ N$ operation in applied to each edge evaluation;\n",
    "- etc.\n",
    "\n",
    "```python\n",
    "generate_d_regular_graph_by_edges(10, ['i->i+1', 'i->i+2', 'i->i+5', 'i->i+7'])\n",
    "```\n",
    "\n",
    "Output:\n",
    "\n",
    "```\n",
    "array([[1., 1., 1., 0., 0., 1., 0., 1., 0., 0.],\n",
    "       [0., 1., 1., 1., 0., 0., 1., 0., 1., 0.],\n",
    "       [0., 0., 1., 1., 1., 0., 0., 1., 0., 1.],\n",
    "       [1., 0., 0., 1., 1., 1., 0., 0., 1., 0.],\n",
    "       [0., 1., 0., 0., 1., 1., 1., 0., 0., 1.],\n",
    "       [1., 0., 1., 0., 0., 1., 1., 1., 0., 0.],\n",
    "       [0., 1., 0., 1., 0., 0., 1., 1., 1., 0.],\n",
    "       [0., 0., 1., 0., 1., 0., 0., 1., 1., 1.],\n",
    "       [1., 0., 0., 1., 0., 1., 0., 0., 1., 1.],\n",
    "       [1., 1., 0., 0., 1., 0., 1., 0., 0., 1.]])\n",
    "```"
   ]
  },
  {
   "cell_type": "markdown",
   "metadata": {},
   "source": [
    "### Velocity vs degree test - iterations over time\n",
    "![Velocity vs degree iter/time plot.](media/img/tests/test_004_velVSdeg10ksamples10ktime_classic/1_iter_time.png)\n",
    "\n",
    "### Velocity vs degree test - mse over time\n",
    "![Velocity vs degree mse/time plot.](media/img/tests/test_004_velVSdeg10ksamples10ktime_classic/3_mse_time.png)\n",
    "\n",
    "### Velocity vs degree test - rmse over time\n",
    "![Velocity vs degree rmse/time plot.](media/img/tests/test_004_velVSdeg10ksamples10ktime_classic/3_real-mse_time.png)"
   ]
  },
  {
   "cell_type": "markdown",
   "metadata": {},
   "source": [
    "# Single node model inspection\n",
    "Set of tests #003 showed some unexpected outcomes:\n",
    "1. diagonal topology has shown to outperform other topologies in _MSE/RMSE over iterations_ plots when we used to think having an high degreed would have led single step updates to be more accurate;\n",
    "2. in _MSE/RMSE over time_ plots, starting from a certain time, all topologies seemed converging to a high error value (too far from the noise variance), while diagonal topology seemed the only one continuing to improve;\n",
    "3. \n",
    "\n",
    "Below I will analyze in details these points trying to figure out their meaning and causes."
   ]
  },
  {
   "cell_type": "markdown",
   "metadata": {},
   "source": [
    "## Single node model inspection\n",
    "I have noticed \n",
    "\n",
    "- making the avg at the end of each step counts as much as making the avg just once at the end, this is what it seems to suggest these outcomes;\n",
    "- \n",
    "\n",
    "I decided to inspect single node performance, thus below I provide a test which plots take into account local metrics of nodes.\n",
    "\n",
    "In the following test, MSE (and RMSE) are computed by averaging local errors in nodes:\n",
    "\n",
    "$$MSE = \\frac{1}{n} \\sum_{v=1}^{n} MSE_v$$\n",
    "\n",
    "$$RMSE = \\frac{1}{n} \\sum_{v=1}^{n} RMSE_v$$\n",
    "\n",
    "where $MSE_v$ and $RMSE_v$ are respectively the mean squared error and the real mean squared error of node $v$:\n",
    "\n",
    "$$MSE_v = \\frac{1}{|\\mathcal{X}_v|} \\sum_{i=1}^{|\\mathcal{X}_v|} (y_i - \\hat{y}_i)^2$$\n",
    "\n",
    "$$RMSE_v = \\frac{1}{|\\mathcal{X}_v|} \\sum_{i=1}^{|\\mathcal{X}_v|} (\\tilde{y}_i - \\hat{y}_i)^2$$\n",
    " \n",
    "- $\\mathcal{X}_v \\subset \\mathcal{X}$ is the subset of the training set assigned to $v$;\n",
    "- $y_i$ is the outcome provided by the training set;\n",
    "- $\\hat{y}_i$ is the value computed using the model $\\mathbf{w}_v$;\n",
    "- $\\tilde{y}_i$ is the noiseless $y_i$.\n",
    "\n",
    "These MSE and RMSE will be called \"**ALT metrics**\" (_alternatives_ metrics)."
   ]
  },
  {
   "cell_type": "markdown",
   "metadata": {},
   "source": [
    "## 10k samples ALT metrics 500k time GD test\n",
    "- `n_samples = 10000`.\n",
    "- `max_time = 500000`: simulation stops when time reaches $500000$s.\n",
    "- All other parameters are left untouched.\n",
    "\n",
    "### 10k samples ALT metrics 500k time GD - iter/time\n",
    "![10k samples ALT metrics GD test iter/time.](media/img/tests/test_004_10ksamplesALTmetrics500ktime_classic/1_iter_time.png)"
   ]
  },
  {
   "cell_type": "markdown",
   "metadata": {},
   "source": [
    "### 10k samples ALT metrics 500k time GD - mse/iter\n",
    "![10k samples ALT metrics 500k time GD test mse/iter.](media/img/tests/test_004_10ksamplesALTmetrics500ktime_classic/2_mse_iter.png)\n",
    "\n",
    "![10k samples ALT metrics 500k time GD test mse/iter zoom.](media/img/tests/test_004_10ksamplesALTmetrics500ktime_classic/2_mse_iter_zoom.png)"
   ]
  },
  {
   "cell_type": "markdown",
   "metadata": {},
   "source": [
    "### 10k samples ALT metrics 500k time GD - rmse/iter\n",
    "![10k samples ALT metrics 500k time GD test rmse/iter.](media/img/tests/test_004_10ksamplesALTmetrics500ktime_classic/2_real-mse_iter.png)\n",
    "\n",
    "![10k samples ALT metrics 500k time GD test rmse/iter zoom.](media/img/tests/test_004_10ksamplesALTmetrics500ktime_classic/2_real-mse_iter_zoom.png)"
   ]
  },
  {
   "cell_type": "markdown",
   "metadata": {},
   "source": [
    "### 10k samples ALT metrics 500k time GD - mse/time\n",
    "\n",
    "#### 10k samples ALT metrics 500k time GD - mse/time (log scale)\n",
    "![10k samples ALT metrics 500k time GD test mse/time.](media/img/tests/test_004_10ksamplesALTmetrics500ktime_classic/3_mse_time.png)\n",
    "\n",
    "![10k samples ALT metrics 500k time GD test mse/time zoom 1.](media/img/tests/test_004_10ksamplesALTmetrics500ktime_classic/3_mse_time_zoom_1.png)\n",
    "\n",
    "#### 10k samples ALT metrics 500k time GD - mse/time (linear scale zoom)\n",
    "![10k samples ALT metrics 500k time GD test mse/time zoom 2.](media/img/tests/test_004_10ksamplesALTmetrics500ktime_classic/3_mse_time_zoom_2.png)\n",
    "\n",
    "![10k samples ALT metrics 500k time GD test mse/time zoom 3.](media/img/tests/test_004_10ksamplesALTmetrics500ktime_classic/3_mse_time_zoom_3.png)"
   ]
  },
  {
   "cell_type": "markdown",
   "metadata": {},
   "source": [
    "### 10k samples ALT metrics 500k time GD - rmse/time\n",
    "![10k samples ALT metrics 500k time GD test rmse/time.](media/img/tests/test_004_10ksamplesALTmetrics500ktime_classic/3_real-mse_time.png)\n",
    "\n",
    "![10k samples ALT metrics 500k time GD test rmse/time zoom 1.](media/img/tests/test_004_10ksamplesALTmetrics500ktime_classic/3_real-mse_time_zoom_1.png)\n",
    "\n",
    "![10k samples ALT metrics 500k time GD test rmse/time zoom 2.](media/img/tests/test_004_10ksamplesALTmetrics500ktime_classic/3_real-mse_time_zoom_2.png)\n",
    "\n",
    "![10k samples ALT metrics 500k time GD test rmse/time zoom 3.](media/img/tests/test_004_10ksamplesALTmetrics500ktime_classic/3_real-mse_time_zoom_3.png)"
   ]
  },
  {
   "cell_type": "markdown",
   "metadata": {},
   "source": [
    "## 10k samples 500k time GD test\n",
    "Here MSE and RMSE are computed in the regular way (and not averaging local errors).\n",
    "\n",
    "Simulation stops when time reaches $500'000$s.\n",
    "\n",
    "This simulation has taken $3h14m26s$.\n",
    "\n",
    "### 10k samples 500k time GD - iter/time\n",
    "![10k samples 500k time GD test iter/time.](media/img/tests/test_004_10ksamples500ktime_classic/1_iter_time.png)"
   ]
  },
  {
   "cell_type": "markdown",
   "metadata": {},
   "source": [
    "### 10k samples 500k time GD - mse/iter\n",
    "![10k samples 500k time GD test mse/iter.](media/img/tests/test_004_10ksamples500ktime_classic/2_mse_iter.png)\n",
    "\n",
    "![10k samples 500k time GD test mse/iter zoom.](media/img/tests/test_004_10ksamples500ktime_classic/2_mse_iter_zoom.png)"
   ]
  },
  {
   "cell_type": "markdown",
   "metadata": {},
   "source": [
    "### 10k samples 500k time GD - rmse/iter\n",
    "![10k samples 500k time GD test rmse/iter.](media/img/tests/test_004_10ksamples500ktime_classic/2_real-mse_iter.png)\n",
    "\n",
    "![10k samples 500k time GD test rmse/iter zoom.](media/img/tests/test_004_10ksamples500ktime_classic/2_real-mse_iter_zoom.png)"
   ]
  },
  {
   "cell_type": "markdown",
   "metadata": {},
   "source": [
    "### 10k samples 500k time GD - mse/time\n",
    "![10k samples 500k time GD test mse/iter.](media/img/tests/test_004_10ksamples500ktime_classic/3_mse_time.png)\n",
    "\n",
    "![10k samples 500k time GD test mse/iter zoom.](media/img/tests/test_004_10ksamples500ktime_classic/3_mse_time_zoom_1.png)\n",
    "\n",
    "![10k samples 500k time GD test mse/iter zoom.](media/img/tests/test_004_10ksamples500ktime_classic/3_mse_time_zoom_2.png)"
   ]
  },
  {
   "cell_type": "markdown",
   "metadata": {},
   "source": [
    "### 10k samples 500k time GD - rmse/time\n",
    "![10k samples 500k time GD test rmse/iter.](media/img/tests/test_004_10ksamples500ktime_classic/3_real-mse_time.png)\n",
    "\n",
    "![10k samples 500k time GD test rmse/iter zoom.](media/img/tests/test_004_10ksamples500ktime_classic/3_real-mse_time_zoom_1.png)\n",
    "\n",
    "![10k samples 500k time GD test rmse/iter zoom.](media/img/tests/test_004_10ksamples500ktime_classic/3_real-mse_time_zoom_2.png)"
   ]
  }
 ],
 "metadata": {
  "kernelspec": {
   "display_name": "Python 3",
   "language": "python",
   "name": "python3"
  },
  "language_info": {
   "codemirror_mode": {
    "name": "ipython",
    "version": 3
   },
   "file_extension": ".py",
   "mimetype": "text/x-python",
   "name": "python",
   "nbconvert_exporter": "python",
   "pygments_lexer": "ipython3",
   "version": "3.6.4"
  }
 },
 "nbformat": 4,
 "nbformat_minor": 2
}
