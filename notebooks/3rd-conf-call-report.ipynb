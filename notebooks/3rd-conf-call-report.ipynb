{
 "cells": [
  {
   "cell_type": "markdown",
   "metadata": {
    "slideshow": {
     "slide_type": "fragment"
    }
   },
   "source": [
    "# Joint conf-call report #3"
   ]
  },
  {
   "cell_type": "code",
   "execution_count": 1,
   "metadata": {
    "slideshow": {
     "slide_type": "fragment"
    }
   },
   "outputs": [
    {
     "name": "stdout",
     "output_type": "stream",
     "text": [
      "2018-05-04 11:53:28.257043\n"
     ]
    }
   ],
   "source": [
    "import datetime\n",
    "print(str(datetime.datetime.today()))"
   ]
  },
  {
   "cell_type": "markdown",
   "metadata": {},
   "source": [
    "# Iterations over time lower bound comparison\n",
    "The speed lower bound is $V_l = \\frac{\\lambda}{1+\\sum_{i=1}^{k} \\frac{1}{i}}$. The lower bound of the iterations' amount is\n",
    "$$\\#it = V_l * time$$\n",
    "so we're dealing with a line $f(x) = V_l x$.\n",
    "\n",
    "For $n=10$ and $\\lambda = 1$:\n",
    "\n",
    "| Graph | degree $k$ | $V_l$\n",
    "| :--- |:---: | ---:\n",
    "| Clique |  $9$  | $\\sim 0.34$\n",
    "| Root and diameter expanders | $2$  | $0.4$\n",
    "| Cycle |  $1$  | $0.5$\n",
    "| Diagonal* | $0$  | $1$\n",
    "\n",
    "_(*) NB: $V_l$ for diagonal graph is not reliable._\n",
    "\n",
    "### Iterations over time LB plot for _10k samples GD test 003_\n",
    "![Iter/time LB for 10k samples](media/img/tests/test_003_10ksamples_classic/1_iter-lb_time.png)"
   ]
  },
  {
   "cell_type": "markdown",
   "metadata": {},
   "source": [
    "# Single node model inspection"
   ]
  },
  {
   "cell_type": "code",
   "execution_count": null,
   "metadata": {},
   "outputs": [],
   "source": []
  }
 ],
 "metadata": {
  "kernelspec": {
   "display_name": "Python 3",
   "language": "python",
   "name": "python3"
  },
  "language_info": {
   "codemirror_mode": {
    "name": "ipython",
    "version": 3
   },
   "file_extension": ".py",
   "mimetype": "text/x-python",
   "name": "python",
   "nbconvert_exporter": "python",
   "pygments_lexer": "ipython3",
   "version": "3.6.4"
  }
 },
 "nbformat": 4,
 "nbformat_minor": 2
}
