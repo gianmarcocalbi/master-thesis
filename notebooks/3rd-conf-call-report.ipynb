{
 "cells": [
  {
   "cell_type": "markdown",
   "metadata": {
    "slideshow": {
     "slide_type": "fragment"
    }
   },
   "source": [
    "# Joint conf-call report #3"
   ]
  },
  {
   "cell_type": "code",
   "execution_count": 1,
   "metadata": {
    "slideshow": {
     "slide_type": "fragment"
    }
   },
   "outputs": [
    {
     "name": "stdout",
     "output_type": "stream",
     "text": [
      "2018-05-04 11:53:28.257043\n"
     ]
    }
   ],
   "source": [
    "import datetime\n",
    "print(str(datetime.datetime.today()))"
   ]
  },
  {
   "cell_type": "markdown",
   "metadata": {},
   "source": [
    "# Formalism adopted\n",
    "\n",
    "The following are most common formalisms:\n",
    "- uppercase bold letter like $\\mathbf{A}$ indicates a matrix;\n",
    "- lowercase bold letter like $\\mathbf{x}$ indicates a column vector ($x^T$ is a row vector);\n",
    "- lowercase normal letter like $x$ indicates a mono-dimensional variable;\n",
    "- usually subscript stands for _index access_, e.g. $x_i$ is the $i$-th component of $\\mathbf{x}$;\n",
    "- superscript within brackets stands for a sequence that embodies the history of a variable (or anything else), like $\\pi^{(0)},\\pi^{(1)},...,\\pi^{(t-1)},\\pi^{(t)}$;\n",
    "\n",
    "Therefore:\n",
    "- the training set is $\\mathcal{X} = (\\mathbf{X}, \\mathbf{y}) = \\{(\\mathbf{x_i}, y_i) : i = 1...n\\}$;\n",
    "- $\\mathbf{X}$ is a $n \\times p$ matrix where $n$ is the number of _samples_ and $p$ is the number of _predictors_ (or _features_);\n",
    "- $\\mathbf{x_i} = (x_{i1},...,x_{in}) \\in \\mathbf{X}$ is a sample of the training set while $y_i$ is its label;\n",
    "- $\\mathbf{w}^{(t+1)}$ is the $(t+1)$-th update of the weight vector $\\mathbf{w}$."
   ]
  },
  {
   "cell_type": "markdown",
   "metadata": {},
   "source": [
    "# Iterations over time lower bound comparison\n",
    "The speed lower bound is $V_l = \\frac{\\lambda}{1+\\sum_{i=1}^{k} \\frac{1}{i}}$. The lower bound of the iterations' amount is\n",
    "$$\\#it = V_l * time$$\n",
    "so we're dealing with a line $f(x) = V_l x$.\n",
    "\n",
    "For $n=10$ and $\\lambda = 1$:\n",
    "\n",
    "| Graph | degree $k$ | $V_l$\n",
    "| :--- |:---: | ---:\n",
    "| Clique |  $9$  | $\\sim 0.34$\n",
    "| Root and diameter expanders | $2$  | $0.4$\n",
    "| Cycle |  $1$  | $0.5$\n",
    "| Diagonal* | $0$  | $1$\n",
    "\n",
    "_(*) NB: $V_l$ for diagonal graph is not reliable._\n",
    "\n",
    "### Iterations over time LB plot for _10k samples GD test 003_\n",
    "![Iter/time LB for 10k samples](media/img/tests/test_003_10ksamples_classic/1_iter-lb_time.png)"
   ]
  },
  {
   "cell_type": "markdown",
   "metadata": {},
   "source": [
    "# Single node model inspection\n",
    "\n",
    "Set test #003 showed some unexpected outcomes:\n",
    "1. diagonal topology has shown to outperform other topologies in _MSE/RMSE over iterations_ plots when we used to think having an high degreed would have led single step updates to be more accurate;\n",
    "2. in _MSE/RMSE over time_ plots, starting from a certain time, all topologies seemed converging to a high error value (too far from the noise variance), while diagonal topology seemed the only one continuing to improve;\n",
    "3. \n",
    "\n",
    "Below I will analyze in details these points trying to figure out their meaning and causes."
   ]
  },
  {
   "cell_type": "markdown",
   "metadata": {},
   "source": [
    "## Single node model inspection\n",
    "I have noticed \n",
    "\n",
    "- making the avg at the end of each step counts as much as making the avg just once at the end, this is what it seems to suggest these outcomes;\n",
    "- \n",
    "\n",
    "I decided to inspect single node performance, thus below there are plots which take into account local metrics of nodes. MSE and RMSE are computed in this way:\n",
    "\n",
    "$$MSE = \\frac{1}{n} \\sum_{v=1}^{n} MSE_v$$"
   ]
  },
  {
   "cell_type": "code",
   "execution_count": null,
   "metadata": {},
   "outputs": [],
   "source": []
  }
 ],
 "metadata": {
  "kernelspec": {
   "display_name": "Python 3",
   "language": "python",
   "name": "python3"
  },
  "language_info": {
   "codemirror_mode": {
    "name": "ipython",
    "version": 3
   },
   "file_extension": ".py",
   "mimetype": "text/x-python",
   "name": "python",
   "nbconvert_exporter": "python",
   "pygments_lexer": "ipython3",
   "version": "3.6.4"
  }
 },
 "nbformat": 4,
 "nbformat_minor": 2
}
